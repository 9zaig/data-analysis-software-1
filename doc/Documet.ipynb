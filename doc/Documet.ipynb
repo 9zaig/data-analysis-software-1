{
 "cells": [
  {
   "cell_type": "markdown",
   "metadata": {},
   "source": [
    "# Data analysis software \n",
    "## Team B1"
   ]
  },
  {
   "cell_type": "code",
   "execution_count": 16,
   "metadata": {},
   "outputs": [
    {
     "name": "stdout",
     "output_type": "stream",
     "text": [
      "    Unnamed: 0     Batch Wafer Maskset  TestSite                      Date  \\\n",
      "0            0  HY202103   D07   LION1  DCM_LMZC  Mon Jul 15 19:17:03 2019   \n",
      "1            1  HY202103   D07   LION1  DCM_LMZC  Mon Jul 15 19:23:09 2019   \n",
      "2            2  HY202103   D07   LION1  DCM_LMZC  Mon Jul 15 20:23:41 2019   \n",
      "3            3  HY202103   D07   LION1  DCM_LMZC  Mon Jul 15 19:53:07 2019   \n",
      "4            4  HY202103   D07   LION1  DCM_LMZC  Mon Jul 15 19:41:08 2019   \n",
      "5            5  HY202103   D07   LION1  DCM_LMZC  Mon Jul 15 20:29:59 2019   \n",
      "6            6  HY202103   D07   LION1  DCM_LMZC  Mon Jul 15 19:47:08 2019   \n",
      "7            7  HY202103   D07   LION1  DCM_LMZC  Mon Jul 15 19:59:15 2019   \n",
      "8            8  HY202103   D07   LION1  DCM_LMZC  Mon Jul 15 19:10:52 2019   \n",
      "9            9  HY202103   D07   LION1  DCM_LMZC  Mon Jul 15 19:35:08 2019   \n",
      "10          10  HY202103   D07   LION1  DCM_LMZC  Mon Jul 15 19:29:08 2019   \n",
      "11          11  HY202103   D07   LION1  DCM_LMZC  Mon Jul 15 20:05:20 2019   \n",
      "12          12  HY202103   D07   LION1  DCM_LMZC  Mon Jul 15 20:17:18 2019   \n",
      "13          13  HY202103   D07   LION1  DCM_LMZC  Mon Jul 15 20:11:19 2019   \n",
      "\n",
      "   Operator  DieColumn  DieRow  Rsq of IV (1)  I at -1V [A]  I at 1V [A]  \\\n",
      "0      ykim         -1      -1       8.690736  2.600116e-08     0.006702   \n",
      "1      ykim         -3      -1       6.342937  4.891146e-08     0.006328   \n",
      "2      ykim          3      -1       6.506542  4.592737e-08     0.006376   \n",
      "3      ykim         -3      -3       5.856829  5.465530e-08     0.006316   \n",
      "4      ykim          0      -3       6.433352  4.816472e-08     0.006533   \n",
      "5      ykim          2      -3       5.535874  6.664091e-08     0.006520   \n",
      "6      ykim         -1      -4       5.347892  7.783382e-08     0.006402   \n",
      "7      ykim         -4       0       5.474567  6.760645e-08     0.006040   \n",
      "8      ykim          0       0      14.587112  8.983372e-09     0.006707   \n",
      "9      ykim          2       0       7.113581  4.148097e-08     0.006592   \n",
      "10     ykim         -1       2       6.371410  4.595994e-08     0.004470   \n",
      "11     ykim         -3       2       5.535981  6.184418e-08     0.006069   \n",
      "12     ykim          2       2       6.311753  4.807164e-08     0.006130   \n",
      "13     ykim          0       3       6.073128  4.971107e-08     0.004166   \n",
      "\n",
      "    Rsq of Ref.spectrum(Nth)  Max Transmission of Ref.spec.(dB)  \n",
      "0               1.003250e+10                          -7.865232  \n",
      "1               1.664563e+12                          -9.056112  \n",
      "2               1.714769e+12                          -9.491289  \n",
      "3               1.722203e+13                          -8.345744  \n",
      "4               6.105128e+12                          -8.910384  \n",
      "5               3.963242e+11                          -9.523609  \n",
      "6               1.364754e+13                          -9.581166  \n",
      "7               2.036113e+12                          -9.729835  \n",
      "8               1.172227e+13                          -7.802331  \n",
      "9               9.206830e+11                          -8.047353  \n",
      "10              9.927702e+11                          -8.205828  \n",
      "11              4.317092e+12                          -9.491354  \n",
      "12              1.972036e+12                          -8.384887  \n",
      "13              1.863031e+12                          -8.798578  \n"
     ]
    }
   ],
   "source": [
    "import pandas as pd \n",
    "import numpy as np\n",
    "import matplotlib.pyplot as plt \n",
    "import seaborn as sns \n",
    "import glob\n",
    "\n",
    "df=pd.read_csv('../res/csv/data_analysis.csv')\n",
    "df_D07=df.loc[df['Wafer']=='D07']\n",
    "# print(df)\n",
    "print(df_D07)"
   ]
  },
  {
   "cell_type": "code",
   "execution_count": 6,
   "metadata": {},
   "outputs": [
    {
     "ename": "SyntaxError",
     "evalue": "invalid syntax (<ipython-input-6-6382889c45dd>, line 7)",
     "output_type": "error",
     "traceback": [
      "\u001b[1;36m  File \u001b[1;32m\"<ipython-input-6-6382889c45dd>\"\u001b[1;36m, line \u001b[1;32m7\u001b[0m\n\u001b[1;33m    csv_list =\u001b[0m\n\u001b[1;37m               ^\u001b[0m\n\u001b[1;31mSyntaxError\u001b[0m\u001b[1;31m:\u001b[0m invalid syntax\n"
     ]
    }
   ],
   "source": []
  }
 ],
 "metadata": {
  "kernelspec": {
   "display_name": "Python 3",
   "language": "python",
   "name": "python3"
  },
  "language_info": {
   "codemirror_mode": {
    "name": "ipython",
    "version": 3
   },
   "file_extension": ".py",
   "mimetype": "text/x-python",
   "name": "python",
   "nbconvert_exporter": "python",
   "pygments_lexer": "ipython3",
   "version": "3.8.3"
  }
 },
 "nbformat": 4,
 "nbformat_minor": 4
}
